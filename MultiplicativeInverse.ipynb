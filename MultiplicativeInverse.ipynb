{
 "cells": [
  {
   "cell_type": "code",
   "execution_count": 7,
   "id": "152f584b",
   "metadata": {},
   "outputs": [
    {
     "name": "stdout",
     "output_type": "stream",
     "text": [
      "Please enter a number to find the multiplicative inverse of a % b\n",
      "Enter a: 1000\n",
      "Enter b: 17\n",
      "353\n"
     ]
    }
   ],
   "source": [
    "def getCoefficients(a, b):\n",
    "    if a == 0:\n",
    "        return b, 0, 1\n",
    "    else:\n",
    "        gcd, x, y = getCoefficients(b % a, a)\n",
    "        return gcd, y- (b // a) * x, x\n",
    "\n",
    "def main():\n",
    "    print(\"Please enter a number to find the multiplicative inverse of a % b\")\n",
    "    a = int(input(\"Enter a: \"))\n",
    "    b = int(input(\"Enter b: \"))\n",
    "    gcd, x, y= getCoefficients(a,b)\n",
    "#     print(gcd, x, y)\n",
    "    if(x*a < y*b):\n",
    "        print(y)\n",
    "    else:\n",
    "        print(a-abs(y))\n",
    "\n",
    "main()\n"
   ]
  },
  {
   "cell_type": "code",
   "execution_count": 7,
   "id": "2e6d776c",
   "metadata": {},
   "outputs": [
    {
     "data": {
      "text/plain": [
       "''"
      ]
     },
     "execution_count": 7,
     "metadata": {},
     "output_type": "execute_result"
    }
   ],
   "source": []
  },
  {
   "cell_type": "code",
   "execution_count": null,
   "id": "b2903b6f",
   "metadata": {},
   "outputs": [],
   "source": []
  },
  {
   "cell_type": "code",
   "execution_count": null,
   "id": "24b1145d",
   "metadata": {},
   "outputs": [],
   "source": []
  }
 ],
 "metadata": {
  "kernelspec": {
   "display_name": "SageMath 9.5",
   "language": "sage",
   "name": "sagemath"
  },
  "language_info": {
   "codemirror_mode": {
    "name": "ipython",
    "version": 3
   },
   "file_extension": ".py",
   "mimetype": "text/x-python",
   "name": "python",
   "nbconvert_exporter": "python",
   "pygments_lexer": "ipython3",
   "version": "3.10.12"
  }
 },
 "nbformat": 4,
 "nbformat_minor": 5
}

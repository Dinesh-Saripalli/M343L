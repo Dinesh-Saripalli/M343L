{
 "cells": [
  {
   "cell_type": "code",
   "execution_count": null,
   "id": "c08c99dd",
   "metadata": {},
   "outputs": [],
   "source": []
  },
  {
   "cell_type": "code",
   "execution_count": 20,
   "id": "174fb2c8",
   "metadata": {},
   "outputs": [
    {
     "name": "stdout",
     "output_type": "stream",
     "text": [
      "Primitive roots modulo 11: [6, 7, 10, 23, 24, 28, 29, 31, 35, 38, 39, 40, 41, 47, 50, 59, 63, 65, 66, 67, 69, 72, 73, 74, 77, 79, 87, 90, 92, 96, 98, 102, 105, 110, 112, 113, 116, 117, 119, 124, 127, 131, 133, 137, 139, 142, 150, 152, 155, 156, 157, 160, 162, 163, 164, 166, 170, 179, 182, 188, 189, 190, 191, 194, 198, 200, 201, 205, 206, 219, 222, 223]\n",
      "Number of primitive roots: 72\n"
     ]
    }
   ],
   "source": [
    "n = 229\n",
    "R = Integers(n)\n",
    "primitive_roots = []\n",
    "for a in range(1, n):\n",
    "    e = R(a)\n",
    "    if e.multiplicative_order() == euler_phi(n):\n",
    "        primitive_roots.append(a)\n",
    "print(\"Primitive roots modulo 11:\", primitive_roots)\n",
    "print(\"Number of primitive roots:\", len(primitive_roots))\n"
   ]
  },
  {
   "cell_type": "code",
   "execution_count": null,
   "id": "9de58b8a",
   "metadata": {},
   "outputs": [],
   "source": []
  }
 ],
 "metadata": {
  "kernelspec": {
   "display_name": "SageMath 9.5",
   "language": "sage",
   "name": "sagemath"
  },
  "language_info": {
   "codemirror_mode": {
    "name": "ipython",
    "version": 3
   },
   "file_extension": ".py",
   "mimetype": "text/x-python",
   "name": "python",
   "nbconvert_exporter": "python",
   "pygments_lexer": "ipython3",
   "version": "3.10.12"
  }
 },
 "nbformat": 4,
 "nbformat_minor": 5
}
